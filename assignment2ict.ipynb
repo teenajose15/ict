{
 "cells": [
  {
   "cell_type": "markdown",
   "id": "b534ce93",
   "metadata": {},
   "source": [
    "# grocery store bill calculator"
   ]
  },
  {
   "cell_type": "code",
   "execution_count": 1,
   "id": "578a839d",
   "metadata": {},
   "outputs": [
    {
     "name": "stdout",
     "output_type": "stream",
     "text": [
      "Avaliable items and prices : {'apple': 10, 'milk': 25, 'flask': 40, 'pen': 3, 'book': 30, 'orange': 20}\n",
      "total bill amount: 128\n"
     ]
    }
   ],
   "source": [
    "# Prices of items stored in a dictionary\n",
    "\n",
    "things={\"apple\":10,\"milk\":25,\"flask\":40,\"pen\":3,\"book\":30,\"orange\":20}\n",
    "print(\"Avaliable items and prices :\",things)\n",
    "\n",
    "sum=0\n",
    "\n",
    "# Loop to take input for items and quantities\n",
    "\n",
    "for key,value in things.items():\n",
    "    sum+=value\n",
    "    \n",
    "# Display the total bill\n",
    "\n",
    "print(\"total bill amount:\",sum)    "
   ]
  },
  {
   "cell_type": "markdown",
   "id": "20741b61",
   "metadata": {},
   "source": [
    "# student grade calculator"
   ]
  },
  {
   "cell_type": "code",
   "execution_count": 2,
   "id": "f96eef77",
   "metadata": {},
   "outputs": [
    {
     "name": "stdout",
     "output_type": "stream",
     "text": [
      "the average of marks: 70.0\n",
      "The average of marks: 70.0\n",
      "The grade is: B\n"
     ]
    }
   ],
   "source": [
    "#Store marks for 5 subjects in a list.\n",
    "\n",
    "marks=[50,60,70,80,90]\n",
    "\n",
    "#the average and the grade:\n",
    "\n",
    "sum=0\n",
    "for i in marks:\n",
    "    sum+=i\n",
    "average=sum/5\n",
    "print(\"the average of marks:\",average)\n",
    "\n",
    "if(average>=90):\n",
    "    grade= \"A\"\n",
    "    \n",
    "elif(70<=average<=89):\n",
    "    grade = \"B\"\n",
    "    \n",
    "elif(50<=average<=69):\n",
    "    grade = \"C\"\n",
    "    \n",
    "else:\n",
    "    grade = \"F\"\n",
    "\n",
    "# Display the average and the grade\n",
    "\n",
    "print(f\"The average of marks: {average}\")\n",
    "print(f\"The grade is: {grade}\")\n",
    "\n",
    "       "
   ]
  },
  {
   "cell_type": "markdown",
   "id": "143df531",
   "metadata": {},
   "source": [
    "# A movie theatre wants to automate ticket booking for customers"
   ]
  },
  {
   "cell_type": "code",
   "execution_count": 3,
   "id": "db6c4af4",
   "metadata": {},
   "outputs": [
    {
     "name": "stdout",
     "output_type": "stream",
     "text": [
      "<class 'list'>\n",
      "Enter the seat number1\n",
      "avaliable seats:[1, 2, 3, 4, 5, 6, 7, 8, 9, 10, 11, 12, 13, 14, 15, 16, 17, 18, 19, 20]\n",
      "All remaning available seat:[2, 3, 4, 5, 6, 7, 8, 9, 10, 11, 12, 13, 14, 15, 16, 17, 18, 19, 20]\n",
      "Enter the seat number2\n",
      "avaliable seats:[2, 3, 4, 5, 6, 7, 8, 9, 10, 11, 12, 13, 14, 15, 16, 17, 18, 19, 20]\n",
      "All remaning available seat:[3, 4, 5, 6, 7, 8, 9, 10, 11, 12, 13, 14, 15, 16, 17, 18, 19, 20]\n",
      "Enter the seat number3\n",
      "avaliable seats:[3, 4, 5, 6, 7, 8, 9, 10, 11, 12, 13, 14, 15, 16, 17, 18, 19, 20]\n",
      "All remaning available seat:[4, 5, 6, 7, 8, 9, 10, 11, 12, 13, 14, 15, 16, 17, 18, 19, 20]\n",
      "Enter the seat number4\n",
      "avaliable seats:[4, 5, 6, 7, 8, 9, 10, 11, 12, 13, 14, 15, 16, 17, 18, 19, 20]\n",
      "All remaning available seat:[5, 6, 7, 8, 9, 10, 11, 12, 13, 14, 15, 16, 17, 18, 19, 20]\n",
      "Enter the seat number5\n",
      "avaliable seats:[5, 6, 7, 8, 9, 10, 11, 12, 13, 14, 15, 16, 17, 18, 19, 20]\n",
      "All remaning available seat:[6, 7, 8, 9, 10, 11, 12, 13, 14, 15, 16, 17, 18, 19, 20]\n",
      "Enter the seat number6\n",
      "avaliable seats:[6, 7, 8, 9, 10, 11, 12, 13, 14, 15, 16, 17, 18, 19, 20]\n",
      "All remaning available seat:[7, 8, 9, 10, 11, 12, 13, 14, 15, 16, 17, 18, 19, 20]\n",
      "Enter the seat number7\n",
      "avaliable seats:[7, 8, 9, 10, 11, 12, 13, 14, 15, 16, 17, 18, 19, 20]\n",
      "All remaning available seat:[8, 9, 10, 11, 12, 13, 14, 15, 16, 17, 18, 19, 20]\n",
      "Enter the seat number8\n",
      "avaliable seats:[8, 9, 10, 11, 12, 13, 14, 15, 16, 17, 18, 19, 20]\n",
      "All remaning available seat:[9, 10, 11, 12, 13, 14, 15, 16, 17, 18, 19, 20]\n",
      "Enter the seat number9\n",
      "avaliable seats:[9, 10, 11, 12, 13, 14, 15, 16, 17, 18, 19, 20]\n",
      "All remaning available seat:[10, 11, 12, 13, 14, 15, 16, 17, 18, 19, 20]\n",
      "Enter the seat number10\n",
      "avaliable seats:[10, 11, 12, 13, 14, 15, 16, 17, 18, 19, 20]\n",
      "All remaning available seat:[11, 12, 13, 14, 15, 16, 17, 18, 19, 20]\n",
      "Enter the seat number11\n",
      "avaliable seats:[11, 12, 13, 14, 15, 16, 17, 18, 19, 20]\n",
      "All remaning available seat:[12, 13, 14, 15, 16, 17, 18, 19, 20]\n",
      "Enter the seat number12\n",
      "avaliable seats:[12, 13, 14, 15, 16, 17, 18, 19, 20]\n",
      "All remaning available seat:[13, 14, 15, 16, 17, 18, 19, 20]\n",
      "Enter the seat number13\n",
      "avaliable seats:[13, 14, 15, 16, 17, 18, 19, 20]\n",
      "All remaning available seat:[14, 15, 16, 17, 18, 19, 20]\n",
      "Enter the seat number14\n",
      "avaliable seats:[14, 15, 16, 17, 18, 19, 20]\n",
      "All remaning available seat:[15, 16, 17, 18, 19, 20]\n",
      "Enter the seat number15\n",
      "avaliable seats:[15, 16, 17, 18, 19, 20]\n",
      "All remaning available seat:[16, 17, 18, 19, 20]\n",
      "Enter the seat number16\n",
      "avaliable seats:[16, 17, 18, 19, 20]\n",
      "All remaning available seat:[17, 18, 19, 20]\n",
      "Enter the seat number17\n",
      "avaliable seats:[17, 18, 19, 20]\n",
      "All remaning available seat:[18, 19, 20]\n",
      "Enter the seat number18\n",
      "avaliable seats:[18, 19, 20]\n",
      "All remaning available seat:[19, 20]\n",
      "Enter the seat number19\n",
      "avaliable seats:[19, 20]\n",
      "All remaning available seat:[20]\n",
      "Enter the seat number20\n",
      "avaliable seats:[20]\n",
      "All remaning available seat:[]\n"
     ]
    }
   ],
   "source": [
    "#list to store the available seats (e.g., [1, 2, 3, ..., 20])\n",
    "avaliable_seat= [*range(1, 21, 1)] \n",
    "  \n",
    "# Print the list \n",
    "print(list) \n",
    "\n",
    "#Allow the customer to book a seat by entering the seat number.\n",
    "\n",
    "while avaliable_seat:\n",
    " booked=int(input(\"Enter the seat number\"))\n",
    " print(f\"avaliable seats:{avaliable_seat}\")\n",
    " if booked in avaliable_seat:\n",
    "   avaliable_seat.remove(booked)\n",
    "   print(f\"All remaning available seat:{avaliable_seat}\")\n",
    "   \n",
    " else:\n",
    "   print(\"The seat is already booked\")\n"
   ]
  },
  {
   "cell_type": "code",
   "execution_count": null,
   "id": "47ac3518",
   "metadata": {},
   "outputs": [],
   "source": []
  }
 ],
 "metadata": {
  "kernelspec": {
   "display_name": "Python 3 (ipykernel)",
   "language": "python",
   "name": "python3"
  },
  "language_info": {
   "codemirror_mode": {
    "name": "ipython",
    "version": 3
   },
   "file_extension": ".py",
   "mimetype": "text/x-python",
   "name": "python",
   "nbconvert_exporter": "python",
   "pygments_lexer": "ipython3",
   "version": "3.11.5"
  }
 },
 "nbformat": 4,
 "nbformat_minor": 5
}
