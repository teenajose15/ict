{
 "cells": [
  {
   "cell_type": "markdown",
   "id": "050ec02d",
   "metadata": {},
   "source": [
    "# 📚 **NumPy, Pandas, Matplotlib, and Seaborn Practice Questions**\n",
    "---\n",
    "This notebook contains four sets of practice questions covering NumPy, Pandas, Matplotlib, and Seaborn. Complete the tasks below and run the respective cells."
   ]
  },
  {
   "cell_type": "markdown",
   "id": "a0592c82",
   "metadata": {},
   "source": [
    "## 🧠 **Question 1: NumPy Array Manipulation**\n",
    "1. Create a 1D NumPy array with integers from **1 to 24**.  \n",
    "2. Reshape the array into a **4x6 matrix**.  \n",
    "3. Extract the **third row** and **second column** from the reshaped array.  \n",
    "4. Transpose the matrix and display the result."
   ]
  },
  {
   "cell_type": "code",
   "execution_count": 1,
   "id": "30be184f",
   "metadata": {},
   "outputs": [
    {
     "data": {
      "text/plain": [
       "array([ 1,  2,  3,  4,  5,  6,  7,  8,  9, 10, 11, 12, 13, 14, 15, 16, 17,\n",
       "       18, 19, 20, 21, 22, 23, 24])"
      ]
     },
     "execution_count": 1,
     "metadata": {},
     "output_type": "execute_result"
    }
   ],
   "source": [
    "# Solution for Question 1\n",
    "import numpy as np\n",
    "\n",
    "# Your code here\n",
    "#1.Create a 1D NumPy array with integers from 1 to 24.\n",
    "df=np.array(range(1,25))\n",
    "df"
   ]
  },
  {
   "cell_type": "code",
   "execution_count": 2,
   "id": "855fd43c",
   "metadata": {},
   "outputs": [
    {
     "data": {
      "text/plain": [
       "array([[ 1,  2,  3,  4,  5,  6],\n",
       "       [ 7,  8,  9, 10, 11, 12],\n",
       "       [13, 14, 15, 16, 17, 18],\n",
       "       [19, 20, 21, 22, 23, 24]])"
      ]
     },
     "execution_count": 2,
     "metadata": {},
     "output_type": "execute_result"
    }
   ],
   "source": [
    "#2.Reshape the array into a 4x6 matrix.\n",
    "df=df.reshape(4,6)\n",
    "df\n"
   ]
  },
  {
   "cell_type": "code",
   "execution_count": 3,
   "id": "db9d02ae",
   "metadata": {},
   "outputs": [
    {
     "name": "stdout",
     "output_type": "stream",
     "text": [
      "2nd columns\n",
      "[ 2  8 14 20]\n",
      "Row at 3rd index\n",
      "[13 14 15 16 17 18]\n"
     ]
    }
   ],
   "source": [
    "#3.Extract the **third row** and **second column** from the reshaped array.  \n",
    "print(\"2nd columns\") \n",
    "print(df[:,1]) \n",
    "\n",
    "  \n",
    "print(\"Row at 3rd index\") \n",
    "print(df[2]) \n",
    "\n",
    "\n"
   ]
  },
  {
   "cell_type": "code",
   "execution_count": 4,
   "id": "89ccbb5a",
   "metadata": {},
   "outputs": [
    {
     "name": "stdout",
     "output_type": "stream",
     "text": [
      "[1, 7, 13, 19]\n",
      "[2, 8, 14, 20]\n",
      "[3, 9, 15, 21]\n",
      "[4, 10, 16, 22]\n",
      "[5, 11, 17, 23]\n",
      "[6, 12, 18, 24]\n"
     ]
    }
   ],
   "source": [
    "#4. Transpose the matrix and display the result.\n",
    "\n",
    "result = [[0,0,0,0],\n",
    "         [0,0,0,0],\n",
    "         [0,0,0,0],\n",
    "         [0,0,0,0],\n",
    "         [0,0,0,0],\n",
    "         [0,0,0,0]]\n",
    "\n",
    "# iterate through rows\n",
    "for i in range(len(df)):\n",
    "   # iterate through columns\n",
    "   for j in range(len(df[0])):\n",
    "       result[j][i] = df[i][j]\n",
    "\n",
    "for r in result:\n",
    "   print(r)"
   ]
  },
  {
   "cell_type": "markdown",
   "id": "22f0750b",
   "metadata": {},
   "source": [
    "## 🧠 **Question 2: Array Element Extraction**\n",
    "1. Create a **5x5 NumPy array** with random integers between **10 and 100**.  \n",
    "2. Extract all the **even numbers** from the array.  \n",
    "3. Replace all numbers **greater than 50** with **0**.  \n",
    "4. Extract the diagonal elements of the array."
   ]
  },
  {
   "cell_type": "code",
   "execution_count": 5,
   "id": "cc1c19d2",
   "metadata": {},
   "outputs": [
    {
     "data": {
      "text/plain": [
       "array([[66, 47, 57, 24, 59],\n",
       "       [14, 64, 70, 61, 21],\n",
       "       [29, 68, 86, 95, 64],\n",
       "       [21, 87, 12, 32, 44],\n",
       "       [36, 84, 95, 37, 81]])"
      ]
     },
     "execution_count": 5,
     "metadata": {},
     "output_type": "execute_result"
    }
   ],
   "source": [
    "# Solution for Question 2\n",
    "import numpy as np\n",
    "array = np.random.randint(10,100, size=(5,5)) \n",
    "array\n",
    "\n"
   ]
  },
  {
   "cell_type": "code",
   "execution_count": 6,
   "id": "6a7befc6",
   "metadata": {
    "scrolled": true
   },
   "outputs": [
    {
     "name": "stdout",
     "output_type": "stream",
     "text": [
      "Original Array:\n",
      " [[66 47 57 24 59]\n",
      " [14 64 70 61 21]\n",
      " [29 68 86 95 64]\n",
      " [21 87 12 32 44]\n",
      " [36 84 95 37 81]]\n",
      "Even Numbers:\n",
      " [66 24 14 64 70 68 86 64 12 32 44 36 84]\n"
     ]
    }
   ],
   "source": [
    "#2.Extract all the even numbers from the array.\n",
    "\n",
    "# Extract even numbers\n",
    "even_numbers = array[array % 2 == 0]\n",
    "\n",
    "print(\"Original Array:\\n\", array)\n",
    "print(\"Even Numbers:\\n\", even_numbers)\n"
   ]
  },
  {
   "cell_type": "code",
   "execution_count": 7,
   "id": "eb801d1e",
   "metadata": {},
   "outputs": [
    {
     "name": "stdout",
     "output_type": "stream",
     "text": [
      "\n",
      "Replace all elements of array which are greater than 50 to 0\n",
      "New array :\n",
      "\n",
      "[[ 0 47  0 24  0]\n",
      " [14  0  0  0 21]\n",
      " [29  0  0  0  0]\n",
      " [21  0 12 32 44]\n",
      " [36  0  0 37  0]]\n"
     ]
    }
   ],
   "source": [
    "#3.Replace all numbers greater than 50 with 0.\n",
    "\n",
    "print(\"\\nReplace all elements of array which are greater than 50 to 0\") \n",
    "array[array > 50] = 0\n",
    "  \n",
    "print(\"New array :\\n\") \n",
    "print(array) \n",
    "\n"
   ]
  },
  {
   "cell_type": "code",
   "execution_count": 8,
   "id": "441d8bbf",
   "metadata": {},
   "outputs": [
    {
     "data": {
      "text/plain": [
       "array([ 0,  0,  0, 32,  0])"
      ]
     },
     "execution_count": 8,
     "metadata": {},
     "output_type": "execute_result"
    }
   ],
   "source": [
    "#4.Extract the diagonal elements of the array.\n",
    "array=np.diagonal(array) \n",
    "array"
   ]
  },
  {
   "cell_type": "markdown",
   "id": "963b5b83",
   "metadata": {},
   "source": [
    "### 🧠 **Question 3: DataFrame Creation and Operations (Pandas)**\n",
    "1. Create a Pandas DataFrame containing the following data:\n",
    "\n",
    "| Student_ID | Name   | Subject | Marks |\n",
    "|------------|--------|---------|-------|\n",
    "| 1          | Alice  | Math    | 88    |\n",
    "| 2          | Bob    | Science | 75    |\n",
    "| 3          | Carol  | History | 92    |\n",
    "| 4          | David  | Math    | 85    |\n",
    "| 5          | Eva    | Science | 90    |\n",
    "\n",
    "2. Find the **average marks** for each subject.  \n",
    "3. Add a new column named **Grade** based on the marks:\n",
    "- Marks ≥ 90 → A\n",
    "- Marks ≥ 80 → B\n",
    "- Marks ≥ 70 → C\n",
    "- Else → D"
   ]
  },
  {
   "cell_type": "code",
   "execution_count": 9,
   "id": "875cda01",
   "metadata": {
    "scrolled": false
   },
   "outputs": [
    {
     "name": "stdout",
     "output_type": "stream",
     "text": [
      "  Student_ID   Name  Subject  Mark\n",
      "0          1  Alice    Maths    88\n",
      "1          2    Bob  Science    75\n",
      "2          3  Carol  History    92\n",
      "3          4  David    Maths    85\n",
      "4          5    Eva  Science    90\n"
     ]
    }
   ],
   "source": [
    "# Solution for Question 3\n",
    "import pandas as pd\n",
    "\n",
    "# Your code here\n",
    "data = {\"Student_ID\":['1','2','3','4','5'],\n",
    "        'Name': ['Alice', 'Bob', 'Carol', 'David','Eva'],\n",
    "        'Subject': ['Maths', 'Science', 'History', 'Maths',\"Science\"],\n",
    "        'Mark': [88, 75, 92, 85,90],}\n",
    "\n",
    "frame = pd.DataFrame(data)\n",
    "\n",
    "print(frame)"
   ]
  },
  {
   "cell_type": "code",
   "execution_count": 10,
   "id": "8223c818",
   "metadata": {},
   "outputs": [
    {
     "data": {
      "text/plain": [
       "Subject\n",
       "History    92.0\n",
       "Maths      86.5\n",
       "Science    82.5\n",
       "Name: Mark, dtype: float64"
      ]
     },
     "execution_count": 10,
     "metadata": {},
     "output_type": "execute_result"
    }
   ],
   "source": [
    "#2.Find the average marks for each subject.\n",
    "frame.groupby(\"Subject\")[\"Mark\"].mean()\n"
   ]
  },
  {
   "cell_type": "code",
   "execution_count": 11,
   "id": "957b2991",
   "metadata": {},
   "outputs": [
    {
     "data": {
      "text/html": [
       "<div>\n",
       "<style scoped>\n",
       "    .dataframe tbody tr th:only-of-type {\n",
       "        vertical-align: middle;\n",
       "    }\n",
       "\n",
       "    .dataframe tbody tr th {\n",
       "        vertical-align: top;\n",
       "    }\n",
       "\n",
       "    .dataframe thead th {\n",
       "        text-align: right;\n",
       "    }\n",
       "</style>\n",
       "<table border=\"1\" class=\"dataframe\">\n",
       "  <thead>\n",
       "    <tr style=\"text-align: right;\">\n",
       "      <th></th>\n",
       "      <th>Student_ID</th>\n",
       "      <th>Name</th>\n",
       "      <th>Subject</th>\n",
       "      <th>Mark</th>\n",
       "      <th>Grade</th>\n",
       "    </tr>\n",
       "  </thead>\n",
       "  <tbody>\n",
       "    <tr>\n",
       "      <th>0</th>\n",
       "      <td>1</td>\n",
       "      <td>Alice</td>\n",
       "      <td>Maths</td>\n",
       "      <td>88</td>\n",
       "      <td>B</td>\n",
       "    </tr>\n",
       "    <tr>\n",
       "      <th>1</th>\n",
       "      <td>2</td>\n",
       "      <td>Bob</td>\n",
       "      <td>Science</td>\n",
       "      <td>75</td>\n",
       "      <td>C</td>\n",
       "    </tr>\n",
       "    <tr>\n",
       "      <th>2</th>\n",
       "      <td>3</td>\n",
       "      <td>Carol</td>\n",
       "      <td>History</td>\n",
       "      <td>92</td>\n",
       "      <td>A</td>\n",
       "    </tr>\n",
       "    <tr>\n",
       "      <th>3</th>\n",
       "      <td>4</td>\n",
       "      <td>David</td>\n",
       "      <td>Maths</td>\n",
       "      <td>85</td>\n",
       "      <td>B</td>\n",
       "    </tr>\n",
       "    <tr>\n",
       "      <th>4</th>\n",
       "      <td>5</td>\n",
       "      <td>Eva</td>\n",
       "      <td>Science</td>\n",
       "      <td>90</td>\n",
       "      <td>A</td>\n",
       "    </tr>\n",
       "  </tbody>\n",
       "</table>\n",
       "</div>"
      ],
      "text/plain": [
       "  Student_ID   Name  Subject  Mark Grade\n",
       "0          1  Alice    Maths    88     B\n",
       "1          2    Bob  Science    75     C\n",
       "2          3  Carol  History    92     A\n",
       "3          4  David    Maths    85     B\n",
       "4          5    Eva  Science    90     A"
      ]
     },
     "metadata": {},
     "output_type": "display_data"
    }
   ],
   "source": [
    "#3. Add a new column named **Grade** based on the marks:\n",
    "def grade(Mark):\n",
    "    if Mark >= 90:\n",
    "        return \"A\"\n",
    "    if 80 <= Mark < 90:\n",
    "        return \"B\"\n",
    "    elif 70 <= Mark < 80:\n",
    "        return \"C\"\n",
    "    else:\n",
    "        return \"D\"\n",
    "\n",
    "frame['Grade'] = frame['Mark'].map(grade)\n",
    "display(frame.head())"
   ]
  },
  {
   "cell_type": "markdown",
   "id": "01df6c53",
   "metadata": {},
   "source": [
    "## 🧠 **Question 4: Dataset Analysis (Pandas, Matplotlib, Seaborn)**\n",
    "Use the dataset `diabetes.csv` and perform the following tasks:\n",
    "\n",
    "1. Display the **BMI** and **Blood Pressure** for samples with **index ranging from 20 to 40**.  \n",
    "2. Find how many patients have **BMI > 30**.  \n",
    "3. Find the **mean and standard deviation** of the **Glucose** levels.  \n",
    "4. Plot a **boxplot** for the column **Insulin**.  \n",
    "5. Create a **heatmap** showing the correlation between the numerical columns in the dataset."
   ]
  },
  {
   "cell_type": "code",
   "execution_count": 12,
   "id": "08539d9d",
   "metadata": {
    "scrolled": true
   },
   "outputs": [
    {
     "data": {
      "text/html": [
       "<div>\n",
       "<style scoped>\n",
       "    .dataframe tbody tr th:only-of-type {\n",
       "        vertical-align: middle;\n",
       "    }\n",
       "\n",
       "    .dataframe tbody tr th {\n",
       "        vertical-align: top;\n",
       "    }\n",
       "\n",
       "    .dataframe thead th {\n",
       "        text-align: right;\n",
       "    }\n",
       "</style>\n",
       "<table border=\"1\" class=\"dataframe\">\n",
       "  <thead>\n",
       "    <tr style=\"text-align: right;\">\n",
       "      <th></th>\n",
       "      <th>Pregnancies</th>\n",
       "      <th>Glucose</th>\n",
       "      <th>BloodPressure</th>\n",
       "      <th>SkinThickness</th>\n",
       "      <th>Insulin</th>\n",
       "      <th>BMI</th>\n",
       "      <th>DiabetesPedigreeFunction</th>\n",
       "      <th>Age</th>\n",
       "      <th>Outcome</th>\n",
       "    </tr>\n",
       "  </thead>\n",
       "  <tbody>\n",
       "    <tr>\n",
       "      <th>0</th>\n",
       "      <td>5</td>\n",
       "      <td>77</td>\n",
       "      <td>82</td>\n",
       "      <td>41</td>\n",
       "      <td>42</td>\n",
       "      <td>35.8</td>\n",
       "      <td>0.156</td>\n",
       "      <td>35</td>\n",
       "      <td>0</td>\n",
       "    </tr>\n",
       "    <tr>\n",
       "      <th>1</th>\n",
       "      <td>9</td>\n",
       "      <td>122</td>\n",
       "      <td>56</td>\n",
       "      <td>0</td>\n",
       "      <td>0</td>\n",
       "      <td>33.3</td>\n",
       "      <td>1.114</td>\n",
       "      <td>33</td>\n",
       "      <td>1</td>\n",
       "    </tr>\n",
       "    <tr>\n",
       "      <th>2</th>\n",
       "      <td>0</td>\n",
       "      <td>113</td>\n",
       "      <td>76</td>\n",
       "      <td>0</td>\n",
       "      <td>0</td>\n",
       "      <td>33.3</td>\n",
       "      <td>0.278</td>\n",
       "      <td>23</td>\n",
       "      <td>1</td>\n",
       "    </tr>\n",
       "    <tr>\n",
       "      <th>3</th>\n",
       "      <td>1</td>\n",
       "      <td>139</td>\n",
       "      <td>62</td>\n",
       "      <td>41</td>\n",
       "      <td>480</td>\n",
       "      <td>40.7</td>\n",
       "      <td>0.536</td>\n",
       "      <td>21</td>\n",
       "      <td>0</td>\n",
       "    </tr>\n",
       "    <tr>\n",
       "      <th>4</th>\n",
       "      <td>10</td>\n",
       "      <td>161</td>\n",
       "      <td>68</td>\n",
       "      <td>23</td>\n",
       "      <td>132</td>\n",
       "      <td>25.5</td>\n",
       "      <td>0.326</td>\n",
       "      <td>47</td>\n",
       "      <td>1</td>\n",
       "    </tr>\n",
       "    <tr>\n",
       "      <th>...</th>\n",
       "      <td>...</td>\n",
       "      <td>...</td>\n",
       "      <td>...</td>\n",
       "      <td>...</td>\n",
       "      <td>...</td>\n",
       "      <td>...</td>\n",
       "      <td>...</td>\n",
       "      <td>...</td>\n",
       "      <td>...</td>\n",
       "    </tr>\n",
       "    <tr>\n",
       "      <th>609</th>\n",
       "      <td>4</td>\n",
       "      <td>114</td>\n",
       "      <td>64</td>\n",
       "      <td>0</td>\n",
       "      <td>0</td>\n",
       "      <td>28.9</td>\n",
       "      <td>0.126</td>\n",
       "      <td>24</td>\n",
       "      <td>0</td>\n",
       "    </tr>\n",
       "    <tr>\n",
       "      <th>610</th>\n",
       "      <td>2</td>\n",
       "      <td>175</td>\n",
       "      <td>88</td>\n",
       "      <td>0</td>\n",
       "      <td>0</td>\n",
       "      <td>22.9</td>\n",
       "      <td>0.326</td>\n",
       "      <td>22</td>\n",
       "      <td>0</td>\n",
       "    </tr>\n",
       "    <tr>\n",
       "      <th>611</th>\n",
       "      <td>3</td>\n",
       "      <td>121</td>\n",
       "      <td>52</td>\n",
       "      <td>0</td>\n",
       "      <td>0</td>\n",
       "      <td>36.0</td>\n",
       "      <td>0.127</td>\n",
       "      <td>25</td>\n",
       "      <td>1</td>\n",
       "    </tr>\n",
       "    <tr>\n",
       "      <th>612</th>\n",
       "      <td>7</td>\n",
       "      <td>136</td>\n",
       "      <td>74</td>\n",
       "      <td>26</td>\n",
       "      <td>135</td>\n",
       "      <td>26.0</td>\n",
       "      <td>0.647</td>\n",
       "      <td>51</td>\n",
       "      <td>0</td>\n",
       "    </tr>\n",
       "    <tr>\n",
       "      <th>613</th>\n",
       "      <td>4</td>\n",
       "      <td>156</td>\n",
       "      <td>75</td>\n",
       "      <td>0</td>\n",
       "      <td>0</td>\n",
       "      <td>48.3</td>\n",
       "      <td>0.238</td>\n",
       "      <td>32</td>\n",
       "      <td>1</td>\n",
       "    </tr>\n",
       "  </tbody>\n",
       "</table>\n",
       "<p>614 rows × 9 columns</p>\n",
       "</div>"
      ],
      "text/plain": [
       "     Pregnancies  Glucose  BloodPressure  SkinThickness  Insulin   BMI  \\\n",
       "0              5       77             82             41       42  35.8   \n",
       "1              9      122             56              0        0  33.3   \n",
       "2              0      113             76              0        0  33.3   \n",
       "3              1      139             62             41      480  40.7   \n",
       "4             10      161             68             23      132  25.5   \n",
       "..           ...      ...            ...            ...      ...   ...   \n",
       "609            4      114             64              0        0  28.9   \n",
       "610            2      175             88              0        0  22.9   \n",
       "611            3      121             52              0        0  36.0   \n",
       "612            7      136             74             26      135  26.0   \n",
       "613            4      156             75              0        0  48.3   \n",
       "\n",
       "     DiabetesPedigreeFunction  Age  Outcome  \n",
       "0                       0.156   35        0  \n",
       "1                       1.114   33        1  \n",
       "2                       0.278   23        1  \n",
       "3                       0.536   21        0  \n",
       "4                       0.326   47        1  \n",
       "..                        ...  ...      ...  \n",
       "609                     0.126   24        0  \n",
       "610                     0.326   22        0  \n",
       "611                     0.127   25        1  \n",
       "612                     0.647   51        0  \n",
       "613                     0.238   32        1  \n",
       "\n",
       "[614 rows x 9 columns]"
      ]
     },
     "execution_count": 12,
     "metadata": {},
     "output_type": "execute_result"
    }
   ],
   "source": [
    "# Solution for Question 4\n",
    "import pandas as pd\n",
    "import matplotlib.pyplot as plt\n",
    "import seaborn as sns\n",
    "\n",
    "# Your code here\n",
    "db=pd.read_csv(r\"C:\\Users\\emilb\\OneDrive\\Desktop\\ASSIGNMENT\\diabetes_model (2).csv\")\n",
    "db\n",
    "df = db.loc[20:40, [\"BMI\", \"BloodPressure\"]]\n",
    "db"
   ]
  },
  {
   "cell_type": "code",
   "execution_count": 13,
   "id": "9d6728b3",
   "metadata": {
    "scrolled": true
   },
   "outputs": [
    {
     "data": {
      "text/plain": [
       "372"
      ]
     },
     "execution_count": 13,
     "metadata": {},
     "output_type": "execute_result"
    }
   ],
   "source": [
    "#2.Find how many patients have BMI > 30.\n",
    "count=(db['BMI']>30).sum()\n",
    "count"
   ]
  },
  {
   "cell_type": "code",
   "execution_count": 30,
   "id": "21e450c9",
   "metadata": {},
   "outputs": [
    {
     "data": {
      "text/plain": [
       "121.5"
      ]
     },
     "metadata": {},
     "output_type": "display_data"
    },
    {
     "data": {
      "text/plain": [
       "32.27591842655023"
      ]
     },
     "metadata": {},
     "output_type": "display_data"
    }
   ],
   "source": [
    "#3. Find the **mean and standard deviation** of the **Glucose** levels. \n",
    "display(db['Glucose'].mean())\n",
    "display(db['Glucose'].std())"
   ]
  },
  {
   "cell_type": "code",
   "execution_count": 23,
   "id": "2398cbca",
   "metadata": {},
   "outputs": [
    {
     "data": {
      "image/png": "[encoded data removed]",
      "text/plain": [
       "<Figure size 640x480 with 1 Axes>"
      ]
     },
     "metadata": {},
     "output_type": "display_data"
    }
   ],
   "source": [
    "#4. Plot a **boxplot** for the column **Insulin**.  \n",
    "plt.boxplot(db[\"Insulin\"])\n",
    "plt.show()"
   ]
  },
  {
   "cell_type": "code",
   "execution_count": 25,
   "id": "d7b42be9",
   "metadata": {
    "scrolled": true
   },
   "outputs": [
    {
     "data": {
      "image/png": "[encoded data removed]",
      "text/plain": [
       "<Figure size 640x480 with 2 Axes>"
      ]
     },
     "metadata": {},
     "output_type": "display_data"
    }
   ],
   "source": [
    "#5. Create a **heatmap** showing the correlation between the numerical columns in the dataset.\n",
    "numerical_df = db.select_dtypes(include=[\"number\"])\n",
    "sns.heatmap(numerical_df.corr(), annot=True, cmap=\"coolwarm\", fmt=\".2f\")\n",
    "plt.title(\"Heatmap of Numerical Data\")\n",
    "plt.show()"
   ]
  },
  {
   "cell_type": "code",
   "execution_count": null,
   "id": "0b22cf20",
   "metadata": {},
   "outputs": [],
   "source": []
  }
 ],
 "metadata": {
  "kernelspec": {
   "display_name": "Python 3 (ipykernel)",
   "language": "python",
   "name": "python3"
  },
  "language_info": {
   "codemirror_mode": {
    "name": "ipython",
    "version": 3
   },
   "file_extension": ".py",
   "mimetype": "text/x-python",
   "name": "python",
   "nbconvert_exporter": "python",
   "pygments_lexer": "ipython3",
   "version": "3.11.5"
  }
 },
 "nbformat": 4,
 "nbformat_minor": 5
}
